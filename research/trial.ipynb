{
 "cells": [
  {
   "cell_type": "code",
   "execution_count": 7,
   "metadata": {},
   "outputs": [],
   "source": [
    "import os\n",
    "from flask import Flask, flash, request, redirect, url_for\n",
    "from werkzeug.utils import secure_filename\n",
    "\n",
    "import re\n",
    "import pikepdf\n",
    "from box import ConfigBox\n",
    "from pathlib import Path\n",
    "import yaml\n",
    "UPLOAD_FOLDER = 'uploads'\n",
    "ALLOWED_EXTENSIONS = {'pdf'}"
   ]
  },
  {
   "cell_type": "code",
   "execution_count": 27,
   "metadata": {},
   "outputs": [],
   "source": [
    "def read_yaml(path_to_yaml) -> ConfigBox:\n",
    "    \"\"\"reads yaml file and returns\n",
    "    Args:\n",
    "        path_to_yaml (str): path like input\n",
    "    Raises:\n",
    "        ValueError: if yaml file is empty\n",
    "        e: empty file\n",
    "    Returns:\n",
    "        ConfigBox: ConfigBox type\n",
    "    \"\"\"\n",
    "    try:\n",
    "        with open(path_to_yaml) as yaml_file:\n",
    "            content = yaml.safe_load(yaml_file)\n",
    "            \n",
    "            return ConfigBox(content)\n",
    "    except Exception as e:\n",
    "        raise e"
   ]
  },
  {
   "cell_type": "code",
   "execution_count": 44,
   "metadata": {},
   "outputs": [],
   "source": [
    "config=read_yaml(Path(\"../config.yaml\"))"
   ]
  },
  {
   "cell_type": "code",
   "execution_count": 45,
   "metadata": {},
   "outputs": [
    {
     "data": {
      "text/plain": [
       "ConfigBox({'upload_folder': {'UPLOAD_FOLDER': 'uploads/'}, 'allowed_extensions': {'ALLOWED_EXTENSIONS': 'pdf'}})"
      ]
     },
     "execution_count": 45,
     "metadata": {},
     "output_type": "execute_result"
    }
   ],
   "source": [
    "config"
   ]
  },
  {
   "cell_type": "code",
   "execution_count": 46,
   "metadata": {},
   "outputs": [
    {
     "data": {
      "text/plain": [
       "'pdf'"
      ]
     },
     "execution_count": 46,
     "metadata": {},
     "output_type": "execute_result"
    }
   ],
   "source": [
    "config.allowed_extensions.ALLOWED_EXTENSIONS"
   ]
  },
  {
   "cell_type": "code",
   "execution_count": 39,
   "metadata": {},
   "outputs": [
    {
     "data": {
      "text/plain": [
       "str"
      ]
     },
     "execution_count": 39,
     "metadata": {},
     "output_type": "execute_result"
    }
   ],
   "source": [
    "type(config.allowed_extensions.ALLOWED_EXTENSIONS)"
   ]
  },
  {
   "cell_type": "code",
   "execution_count": 31,
   "metadata": {},
   "outputs": [
    {
     "data": {
      "text/plain": [
       "'.'"
      ]
     },
     "execution_count": 31,
     "metadata": {},
     "output_type": "execute_result"
    }
   ],
   "source": [
    "os.curdir"
   ]
  },
  {
   "cell_type": "code",
   "execution_count": 32,
   "metadata": {},
   "outputs": [
    {
     "data": {
      "text/plain": [
       "'pdf'"
      ]
     },
     "execution_count": 32,
     "metadata": {},
     "output_type": "execute_result"
    }
   ],
   "source": [
    "\"r.pdf\".rsplit('.', 1)[1]"
   ]
  },
  {
   "cell_type": "code",
   "execution_count": 6,
   "metadata": {},
   "outputs": [],
   "source": [
    "app = Flask(__name__)\n",
    "app.config['UPLOAD_FOLDER'] = UPLOAD_FOLDER\n",
    "\n",
    "def allowed_file(filename):\n",
    "    return '.' in filename and \\\n",
    "           filename.rsplit('.', 1)[1].lower() in ALLOWED_EXTENSIONS"
   ]
  },
  {
   "cell_type": "code",
   "execution_count": 7,
   "metadata": {},
   "outputs": [],
   "source": [
    "@app.route('/', methods=['GET', 'POST'])\n",
    "def upload_file():\n",
    "    if request.method == 'POST':\n",
    "        # check if the post request has the file part\n",
    "        if 'file' not in request.files:\n",
    "            flash('No file part')\n",
    "            return redirect(request.url)\n",
    "        file = request.files['file']\n",
    "        # If the user does not select a file, the browser submits an\n",
    "        # empty file without a filename.\n",
    "        if file.filename == '':\n",
    "            flash('No selected file')\n",
    "            return redirect(request.url)\n",
    "        if file and allowed_file(file.filename):\n",
    "            filename = secure_filename(file.filename)\n",
    "            file.save(os.path.join(app.config['UPLOAD_FOLDER'], filename))\n",
    "            return redirect(url_for('download_file', name=filename))\n",
    "    return '''\n",
    "    <!doctype html>\n",
    "    <title>Upload new File</title>\n",
    "    <h1>Upload new File</h1>\n",
    "    <form method=post enctype=multipart/form-data>\n",
    "      <input type=file name=file>\n",
    "      <input type=submit value=Upload>\n",
    "    </form>\n",
    "    '''"
   ]
  },
  {
   "cell_type": "code",
   "execution_count": 9,
   "metadata": {},
   "outputs": [
    {
     "data": {
      "text/plain": [
       "True"
      ]
     },
     "execution_count": 9,
     "metadata": {},
     "output_type": "execute_result"
    }
   ],
   "source": [
    "allowed_file(\"r.pdf\")"
   ]
  },
  {
   "cell_type": "code",
   "execution_count": 49,
   "metadata": {},
   "outputs": [],
   "source": [
    "# Rotate all pages in a file by 180 degrees\n",
    "import pikepdf\n",
    "\n",
    "with pikepdf.Pdf.open('../uploads/project_report_shivam_new.pdf') as my_pdf:\n",
    "    for page in my_pdf.pages:\n",
    "        page.Rotate = 180\n",
    "    my_pdf.save('test-rotated.pdf')"
   ]
  },
  {
   "cell_type": "code",
   "execution_count": 76,
   "metadata": {},
   "outputs": [],
   "source": [
    "def all(page_No: int,deg_of_rotation: int,filepath: Path):\n",
    "    #to rotate all the pages\n",
    "    with pikepdf.Pdf.open(filepath) as my_pdf:\n",
    "        for page in my_pdf.pages:\n",
    "            page.Rotate = deg_of_rotation*90\n",
    "        my_pdf.save('test-rotated.pdf')"
   ]
  },
  {
   "cell_type": "code",
   "execution_count": 78,
   "metadata": {},
   "outputs": [],
   "source": [
    "all(page_No=None,deg_of_rotation=1,filepath='../uploads/project_report_shivam_new.pdf')"
   ]
  },
  {
   "cell_type": "code",
   "execution_count": 86,
   "metadata": {},
   "outputs": [],
   "source": [
    "def specific_page(page_No: int,deg_of_rotation: int,filepath: Path):\n",
    "    #to rotate a specific pages\n",
    "    with pikepdf.Pdf.open(filepath) as my_pdf:\n",
    "        my_pdf.pages[page_No-1].Rotate = deg_of_rotation*90\n",
    "        my_pdf.save('test-rotated.pdf')\n",
    "        "
   ]
  },
  {
   "cell_type": "code",
   "execution_count": 87,
   "metadata": {},
   "outputs": [],
   "source": [
    "specific_page(page_No=2,deg_of_rotation=1,filepath='../uploads/project_report_shivam_new.pdf')"
   ]
  },
  {
   "cell_type": "code",
   "execution_count": 62,
   "metadata": {},
   "outputs": [],
   "source": [
    "filepath='../uploads/project_report_shivam_new.pdf'"
   ]
  },
  {
   "cell_type": "code",
   "execution_count": 79,
   "metadata": {},
   "outputs": [],
   "source": [
    "with pikepdf.Pdf.open(filepath) as my_pdf:\n",
    "    my_pdf.pages[2]        \n",
    "    # if 2 in my_pdf.pages:\n",
    "    #     print(\"yes\")\n",
    "    # else:\n",
    "    #     print(type(my_pdf.pages))\n",
    "    #     print(my_pdf.pages.__len__())\n",
    "    #     print(\"no\")"
   ]
  },
  {
   "cell_type": "code",
   "execution_count": 21,
   "metadata": {},
   "outputs": [],
   "source": [
    "def list_of_pages(page_No: str,deg_of_rotation: int,filepath: Path):\n",
    "    #to rotate a specific pages\n",
    "    with pikepdf.Pdf.open(filepath) as my_pdf:\n",
    "        page_No.lower()\n",
    "        page_No=page_No.strip()\n",
    "        page_No_str = re.split(r'-',page_No )\n",
    "        ini_page=int(page_No_str[0])\n",
    "        last_page=int(page_No_str[1])\n",
    "        \n",
    "        for i in range(ini_page,last_page+1):\n",
    "           my_pdf.pages[i-1].Rotate = deg_of_rotation*90\n",
    "        new_pdf=Path((f\"test.pdf\"))"
   ]
  },
  {
   "cell_type": "code",
   "execution_count": 22,
   "metadata": {},
   "outputs": [],
   "source": [
    "list_of_pages(page_No='2-7',deg_of_rotation=1,filepath=Path('../uploads/project_report_shivam_new.pdf'))"
   ]
  },
  {
   "cell_type": "code",
   "execution_count": 11,
   "metadata": {},
   "outputs": [
    {
     "data": {
      "text/plain": [
       "WindowsPath('../uploads/project_report_shivam_new.pdf/test.pdf angle_of_rotation: 90 page_number: 2-7')"
      ]
     },
     "execution_count": 11,
     "metadata": {},
     "output_type": "execute_result"
    }
   ],
   "source": []
  },
  {
   "cell_type": "code",
   "execution_count": 114,
   "metadata": {},
   "outputs": [
    {
     "data": {
      "text/plain": [
       "2"
      ]
     },
     "execution_count": 114,
     "metadata": {},
     "output_type": "execute_result"
    }
   ],
   "source": [
    "import re\n",
    "inp='5-25 '\n",
    "inp.lower()\n",
    "inp=inp.strip()\n",
    "inp = re.split(r'-', inp)\n",
    "\n",
    "inp[0]\n",
    "len(inp)"
   ]
  },
  {
   "cell_type": "code",
   "execution_count": 111,
   "metadata": {},
   "outputs": [
    {
     "name": "stdout",
     "output_type": "stream",
     "text": [
      "['2-5']\n"
     ]
    }
   ],
   "source": [
    "import re\n",
    "\n",
    "# Given String\n",
    "s = \"2-5\"\n",
    "\n",
    "# Performing Split\n",
    "#res_1 = re.split(r'-', s)\n",
    "\n",
    "if 'to' or '-' in s:\n",
    "    res_1 = re.split(r'-'+'to', s)\n",
    "    print(res_1)"
   ]
  },
  {
   "cell_type": "code",
   "execution_count": 110,
   "metadata": {},
   "outputs": [
    {
     "data": {
      "text/plain": [
       "['2-5']"
      ]
     },
     "execution_count": 110,
     "metadata": {},
     "output_type": "execute_result"
    }
   ],
   "source": [
    "res_1"
   ]
  },
  {
   "cell_type": "code",
   "execution_count": 2,
   "metadata": {},
   "outputs": [
    {
     "data": {
      "text/plain": [
       "'x\\\\y.txt'"
      ]
     },
     "execution_count": 2,
     "metadata": {},
     "output_type": "execute_result"
    }
   ],
   "source": [
    "os.path.join(\"x\",\"y.txt\")"
   ]
  },
  {
   "cell_type": "code",
   "execution_count": null,
   "metadata": {},
   "outputs": [],
   "source": [
    "def all(deg_of_rotation: int,filepath: Path):\n",
    "    with pikepdf.Pdf.open(filepath) as my_pdf:\n",
    "        for page in my_pdf.pages:\n",
    "            page.Rotate = deg_of_rotation*90\n",
    "        angle_of_rotation=90*deg_of_rotation\n",
    "        new_pdf=Path(os.path.join(filepath,f\"test.pdf\" ))\n",
    "        #angle_of_rotation: {angle_of_rotation} page_number: {page_No}\")\n",
    "        my_pdf.save(\"test.pdf\")\n",
    "    return(new_pdf, angle_of_rotation, 'All')"
   ]
  }
 ],
 "metadata": {
  "kernelspec": {
   "display_name": "Python 3.8.13 ('pdfReader')",
   "language": "python",
   "name": "python3"
  },
  "language_info": {
   "codemirror_mode": {
    "name": "ipython",
    "version": 3
   },
   "file_extension": ".py",
   "mimetype": "text/x-python",
   "name": "python",
   "nbconvert_exporter": "python",
   "pygments_lexer": "ipython3",
   "version": "3.8.13"
  },
  "orig_nbformat": 4,
  "vscode": {
   "interpreter": {
    "hash": "34bde0d64ac00331f47499efeca89a033b8399394275eb2743a88849905e1816"
   }
  }
 },
 "nbformat": 4,
 "nbformat_minor": 2
}
